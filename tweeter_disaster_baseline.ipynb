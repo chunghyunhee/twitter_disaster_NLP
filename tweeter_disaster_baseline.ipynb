{
  "nbformat": 4,
  "nbformat_minor": 0,
  "metadata": {
    "colab": {
      "name": "tweeter_disaster_2.ipynb",
      "provenance": []
    },
    "kernelspec": {
      "name": "python3",
      "display_name": "Python 3"
    }
  },
  "cells": [
    {
      "cell_type": "markdown",
      "metadata": {
        "id": "5kGINbzwboEW",
        "colab_type": "text"
      },
      "source": [
        "data "
      ]
    },
    {
      "cell_type": "code",
      "metadata": {
        "id": "r-YN5i8sZoOy",
        "colab_type": "code",
        "colab": {}
      },
      "source": [
        "import numpy as np\n",
        "import pandas as pd\n",
        "from sklearn import feature_extraction, linear_model, model_selection, preprocessing"
      ],
      "execution_count": 1,
      "outputs": []
    },
    {
      "cell_type": "code",
      "metadata": {
        "id": "BXXf1GV1aupv",
        "colab_type": "code",
        "colab": {}
      },
      "source": [
        "# data\n",
        "train_df = pd.read_csv(\"train.csv\")\n",
        "test_df = pd.read_csv(\"test.csv\")"
      ],
      "execution_count": 2,
      "outputs": []
    },
    {
      "cell_type": "code",
      "metadata": {
        "id": "5SLIGOUaa19u",
        "colab_type": "code",
        "colab": {
          "base_uri": "https://localhost:8080/",
          "height": 35
        },
        "outputId": "bdd69f3b-4f33-4d84-ccd3-0747b14becf7"
      },
      "source": [
        "train_df[train_df[\"target\"]==0]['text'].values[1] # not disaster "
      ],
      "execution_count": 3,
      "outputs": [
        {
          "output_type": "execute_result",
          "data": {
            "application/vnd.google.colaboratory.intrinsic": {
              "type": "string"
            },
            "text/plain": [
              "'I love fruits'"
            ]
          },
          "metadata": {
            "tags": []
          },
          "execution_count": 3
        }
      ]
    },
    {
      "cell_type": "code",
      "metadata": {
        "id": "cd4lFg6bbcxU",
        "colab_type": "code",
        "colab": {
          "base_uri": "https://localhost:8080/",
          "height": 35
        },
        "outputId": "ea4ea4db-9977-440d-b4c3-55453e5a8aca"
      },
      "source": [
        "train_df[train_df[\"target\"]==1]['text'].values[1] # disaster"
      ],
      "execution_count": 4,
      "outputs": [
        {
          "output_type": "execute_result",
          "data": {
            "application/vnd.google.colaboratory.intrinsic": {
              "type": "string"
            },
            "text/plain": [
              "'Forest fire near La Ronge Sask. Canada'"
            ]
          },
          "metadata": {
            "tags": []
          },
          "execution_count": 4
        }
      ]
    },
    {
      "cell_type": "code",
      "metadata": {
        "id": "tc7j8APFbpnu",
        "colab_type": "code",
        "colab": {}
      },
      "source": [
        ""
      ],
      "execution_count": null,
      "outputs": []
    },
    {
      "cell_type": "markdown",
      "metadata": {
        "id": "Z6jBLfFvbp9f",
        "colab_type": "text"
      },
      "source": [
        "building vectors\n",
        "- to put the data in model, we should do vectorization process"
      ]
    },
    {
      "cell_type": "code",
      "metadata": {
        "id": "cSxwjKjFbjLF",
        "colab_type": "code",
        "colab": {}
      },
      "source": [
        "count_vectorizer = feature_extraction.text.CountVectorizer()\n",
        "\n",
        "example_train_vectors = count_vectorizer.fit_transform(train_df[\"text\"][0:5])"
      ],
      "execution_count": 5,
      "outputs": []
    },
    {
      "cell_type": "code",
      "metadata": {
        "id": "8IzFd-vNceJU",
        "colab_type": "code",
        "colab": {
          "base_uri": "https://localhost:8080/",
          "height": 106
        },
        "outputId": "cb721663-0761-4813-a19f-8a78696c7c61"
      },
      "source": [
        "# sparse vector -> dense vector ( only 5 for example )\n",
        "print(example_train_vectors[0].todense().shape)\n",
        "print(example_train_vectors[0].todense())\n",
        "'''\n",
        "\n",
        "1. there are 54 unique words( or tokens ) in the first 5 tweets\n",
        "2. the first tweet contains onlt some of those unique tokens- all of the non-zero counts above are the tokens that DO exist in the first tweet.\n",
        "\n",
        "'''"
      ],
      "execution_count": 7,
      "outputs": [
        {
          "output_type": "stream",
          "text": [
            "(1, 54)\n",
            "[[0 0 0 1 1 1 0 0 0 0 0 0 1 1 0 0 0 0 1 0 0 0 0 0 0 1 0 0 0 1 0 0 0 0 1 0\n",
            "  0 0 0 1 0 0 0 0 0 0 0 0 0 1 1 0 1 0]]\n"
          ],
          "name": "stdout"
        },
        {
          "output_type": "execute_result",
          "data": {
            "application/vnd.google.colaboratory.intrinsic": {
              "type": "string"
            },
            "text/plain": [
              "'\\n\\n1. there are 54 unique words( or tokens ) in the first 5 tweets\\n2. the first tweet contains onlt some of those unique tokens- all of the non-zero counts above are the tokens that DO exist in the first tweet.\\n\\n'"
            ]
          },
          "metadata": {
            "tags": []
          },
          "execution_count": 7
        }
      ]
    },
    {
      "cell_type": "code",
      "metadata": {
        "id": "2kM7mk4-coiA",
        "colab_type": "code",
        "colab": {}
      },
      "source": [
        "train_vectors = count_vectorizer.fit_transform(train_df[\"text\"])\n",
        "test_vectors = count_vectorizer.transform(test_df[\"text\"])"
      ],
      "execution_count": 9,
      "outputs": []
    },
    {
      "cell_type": "code",
      "metadata": {
        "id": "i1M__Wxrdh49",
        "colab_type": "code",
        "colab": {}
      },
      "source": [
        ""
      ],
      "execution_count": null,
      "outputs": []
    },
    {
      "cell_type": "markdown",
      "metadata": {
        "id": "OmJBjtPFdimZ",
        "colab_type": "text"
      },
      "source": [
        "model - RidgeClassifier"
      ]
    },
    {
      "cell_type": "code",
      "metadata": {
        "id": "g38g5LnTdYx9",
        "colab_type": "code",
        "colab": {}
      },
      "source": [
        "# linear model \n",
        "clf = linear_model.RidgeClassifier()"
      ],
      "execution_count": 10,
      "outputs": []
    },
    {
      "cell_type": "code",
      "metadata": {
        "id": "l280w4lvehv0",
        "colab_type": "code",
        "colab": {
          "base_uri": "https://localhost:8080/",
          "height": 35
        },
        "outputId": "db1ae5ad-eeb7-424d-a7b7-a0337a2b7cfe"
      },
      "source": [
        "scores = model_selection.cross_val_score(clf, train_vectors, train_df[\"target\"], cv = 3, scoring=\"f1\")\n",
        "scores"
      ],
      "execution_count": 11,
      "outputs": [
        {
          "output_type": "execute_result",
          "data": {
            "text/plain": [
              "array([0.59453669, 0.56498283, 0.64082434])"
            ]
          },
          "metadata": {
            "tags": []
          },
          "execution_count": 11
        }
      ]
    },
    {
      "cell_type": "code",
      "metadata": {
        "id": "JFU4ORhmesrp",
        "colab_type": "code",
        "colab": {
          "base_uri": "https://localhost:8080/",
          "height": 70
        },
        "outputId": "b3b75519-357f-4bc2-e76b-23efdcf9a122"
      },
      "source": [
        "clf.fit(train_vectors, train_df[\"target\"])"
      ],
      "execution_count": 12,
      "outputs": [
        {
          "output_type": "execute_result",
          "data": {
            "text/plain": [
              "RidgeClassifier(alpha=1.0, class_weight=None, copy_X=True, fit_intercept=True,\n",
              "                max_iter=None, normalize=False, random_state=None,\n",
              "                solver='auto', tol=0.001)"
            ]
          },
          "metadata": {
            "tags": []
          },
          "execution_count": 12
        }
      ]
    },
    {
      "cell_type": "markdown",
      "metadata": {
        "id": "wICyEOhH6730",
        "colab_type": "text"
      },
      "source": [
        "model - xgboost"
      ]
    },
    {
      "cell_type": "code",
      "metadata": {
        "id": "e17-_uOk67a7",
        "colab_type": "code",
        "colab": {}
      },
      "source": [
        "# xgboost model \n",
        "import xgboost as xgb\n",
        "from xgboost import plot_importance\n",
        "import pandas as pd\n",
        "import numpy as np\n",
        "from sklearn.datasets import load_breast_cancer\n",
        "from sklearn.model_selection import train_test_split\n",
        "import warnings\n",
        "from xgboost import XGBClassifier"
      ],
      "execution_count": 20,
      "outputs": []
    },
    {
      "cell_type": "code",
      "metadata": {
        "id": "4vyo7zog8fzR",
        "colab_type": "code",
        "colab": {
          "base_uri": "https://localhost:8080/",
          "height": 35
        },
        "outputId": "2dd482b8-4c45-4f7f-bb26-54abc5dda566"
      },
      "source": [
        "X_train, X_test, y_train, y_test = train_test_split(train_vectors, train_df[\"target\"], test_size=0.2, random_state=156)\n",
        "print(X_train.shape, X_test.shape)"
      ],
      "execution_count": 21,
      "outputs": [
        {
          "output_type": "stream",
          "text": [
            "(6090, 21637) (1523, 21637)\n"
          ],
          "name": "stdout"
        }
      ]
    },
    {
      "cell_type": "code",
      "metadata": {
        "id": "i0EeiyjN8Yv3",
        "colab_type": "code",
        "colab": {
          "base_uri": "https://localhost:8080/",
          "height": 141
        },
        "outputId": "b7fd81c3-5117-4847-d683-32a3ed3e9d32"
      },
      "source": [
        "my_model = XGBClassifier(n_estimators=1000)\n",
        "my_model.fit(X_train, y_train, early_stopping_rounds=5, \n",
        "             eval_set=[(X_test, y_test)], verbose=False)"
      ],
      "execution_count": 32,
      "outputs": [
        {
          "output_type": "execute_result",
          "data": {
            "text/plain": [
              "XGBClassifier(base_score=0.5, booster='gbtree', colsample_bylevel=1,\n",
              "              colsample_bynode=1, colsample_bytree=1, gamma=0,\n",
              "              learning_rate=0.1, max_delta_step=0, max_depth=3,\n",
              "              min_child_weight=1, missing=None, n_estimators=1000, n_jobs=1,\n",
              "              nthread=None, objective='binary:logistic', random_state=0,\n",
              "              reg_alpha=0, reg_lambda=1, scale_pos_weight=1, seed=None,\n",
              "              silent=None, subsample=1, verbosity=1)"
            ]
          },
          "metadata": {
            "tags": []
          },
          "execution_count": 32
        }
      ]
    },
    {
      "cell_type": "code",
      "metadata": {
        "id": "pRayRp-9TwJb",
        "colab_type": "code",
        "colab": {
          "base_uri": "https://localhost:8080/",
          "height": 1000
        },
        "outputId": "58cbe882-99a5-4bed-d008-85058d83a352"
      },
      "source": [
        "my_model.fit(\n",
        "    X_train, \n",
        "    y_train, \n",
        "    eval_metric=\"rmse\", \n",
        "    eval_set=[(X_train, y_train), (X_test, y_test)], \n",
        "    verbose=True, \n",
        "    early_stopping_rounds = 10)"
      ],
      "execution_count": 33,
      "outputs": [
        {
          "output_type": "stream",
          "text": [
            "[0]\tvalidation_0-rmse:0.493648\tvalidation_1-rmse:0.493986\n",
            "Multiple eval metrics have been passed: 'validation_1-rmse' will be used for early stopping.\n",
            "\n",
            "Will train until validation_1-rmse hasn't improved in 10 rounds.\n",
            "[1]\tvalidation_0-rmse:0.488309\tvalidation_1-rmse:0.488781\n",
            "[2]\tvalidation_0-rmse:0.483758\tvalidation_1-rmse:0.484487\n",
            "[3]\tvalidation_0-rmse:0.479766\tvalidation_1-rmse:0.480359\n",
            "[4]\tvalidation_0-rmse:0.476497\tvalidation_1-rmse:0.477139\n",
            "[5]\tvalidation_0-rmse:0.47365\tvalidation_1-rmse:0.47442\n",
            "[6]\tvalidation_0-rmse:0.471044\tvalidation_1-rmse:0.471748\n",
            "[7]\tvalidation_0-rmse:0.46883\tvalidation_1-rmse:0.469516\n",
            "[8]\tvalidation_0-rmse:0.466963\tvalidation_1-rmse:0.467918\n",
            "[9]\tvalidation_0-rmse:0.465122\tvalidation_1-rmse:0.46594\n",
            "[10]\tvalidation_0-rmse:0.463539\tvalidation_1-rmse:0.464176\n",
            "[11]\tvalidation_0-rmse:0.461975\tvalidation_1-rmse:0.462665\n",
            "[12]\tvalidation_0-rmse:0.46051\tvalidation_1-rmse:0.46149\n",
            "[13]\tvalidation_0-rmse:0.459283\tvalidation_1-rmse:0.460111\n",
            "[14]\tvalidation_0-rmse:0.458066\tvalidation_1-rmse:0.459199\n",
            "[15]\tvalidation_0-rmse:0.456802\tvalidation_1-rmse:0.458094\n",
            "[16]\tvalidation_0-rmse:0.455692\tvalidation_1-rmse:0.457152\n",
            "[17]\tvalidation_0-rmse:0.454616\tvalidation_1-rmse:0.456174\n",
            "[18]\tvalidation_0-rmse:0.453707\tvalidation_1-rmse:0.455118\n",
            "[19]\tvalidation_0-rmse:0.452691\tvalidation_1-rmse:0.454219\n",
            "[20]\tvalidation_0-rmse:0.451619\tvalidation_1-rmse:0.453093\n",
            "[21]\tvalidation_0-rmse:0.450722\tvalidation_1-rmse:0.452257\n",
            "[22]\tvalidation_0-rmse:0.4499\tvalidation_1-rmse:0.451536\n",
            "[23]\tvalidation_0-rmse:0.449159\tvalidation_1-rmse:0.450591\n",
            "[24]\tvalidation_0-rmse:0.44832\tvalidation_1-rmse:0.450053\n",
            "[25]\tvalidation_0-rmse:0.447521\tvalidation_1-rmse:0.449123\n",
            "[26]\tvalidation_0-rmse:0.446864\tvalidation_1-rmse:0.448533\n",
            "[27]\tvalidation_0-rmse:0.446089\tvalidation_1-rmse:0.447908\n",
            "[28]\tvalidation_0-rmse:0.445321\tvalidation_1-rmse:0.44725\n",
            "[29]\tvalidation_0-rmse:0.444652\tvalidation_1-rmse:0.446321\n",
            "[30]\tvalidation_0-rmse:0.443788\tvalidation_1-rmse:0.445455\n",
            "[31]\tvalidation_0-rmse:0.443148\tvalidation_1-rmse:0.444894\n",
            "[32]\tvalidation_0-rmse:0.442466\tvalidation_1-rmse:0.444247\n",
            "[33]\tvalidation_0-rmse:0.441832\tvalidation_1-rmse:0.443605\n",
            "[34]\tvalidation_0-rmse:0.441217\tvalidation_1-rmse:0.443001\n",
            "[35]\tvalidation_0-rmse:0.440652\tvalidation_1-rmse:0.442601\n",
            "[36]\tvalidation_0-rmse:0.440129\tvalidation_1-rmse:0.441957\n",
            "[37]\tvalidation_0-rmse:0.439605\tvalidation_1-rmse:0.441379\n",
            "[38]\tvalidation_0-rmse:0.439007\tvalidation_1-rmse:0.440761\n",
            "[39]\tvalidation_0-rmse:0.438448\tvalidation_1-rmse:0.440475\n",
            "[40]\tvalidation_0-rmse:0.437858\tvalidation_1-rmse:0.439845\n",
            "[41]\tvalidation_0-rmse:0.437324\tvalidation_1-rmse:0.439283\n",
            "[42]\tvalidation_0-rmse:0.436695\tvalidation_1-rmse:0.438761\n",
            "[43]\tvalidation_0-rmse:0.436081\tvalidation_1-rmse:0.438258\n",
            "[44]\tvalidation_0-rmse:0.43566\tvalidation_1-rmse:0.437845\n",
            "[45]\tvalidation_0-rmse:0.435218\tvalidation_1-rmse:0.43733\n",
            "[46]\tvalidation_0-rmse:0.434779\tvalidation_1-rmse:0.436991\n",
            "[47]\tvalidation_0-rmse:0.434147\tvalidation_1-rmse:0.436246\n",
            "[48]\tvalidation_0-rmse:0.433633\tvalidation_1-rmse:0.435876\n",
            "[49]\tvalidation_0-rmse:0.433139\tvalidation_1-rmse:0.435622\n",
            "[50]\tvalidation_0-rmse:0.432695\tvalidation_1-rmse:0.435195\n",
            "[51]\tvalidation_0-rmse:0.43226\tvalidation_1-rmse:0.434938\n",
            "[52]\tvalidation_0-rmse:0.431754\tvalidation_1-rmse:0.434308\n",
            "[53]\tvalidation_0-rmse:0.431326\tvalidation_1-rmse:0.433829\n",
            "[54]\tvalidation_0-rmse:0.430923\tvalidation_1-rmse:0.433619\n",
            "[55]\tvalidation_0-rmse:0.430548\tvalidation_1-rmse:0.433291\n",
            "[56]\tvalidation_0-rmse:0.430093\tvalidation_1-rmse:0.432735\n",
            "[57]\tvalidation_0-rmse:0.429672\tvalidation_1-rmse:0.432505\n",
            "[58]\tvalidation_0-rmse:0.429174\tvalidation_1-rmse:0.432154\n",
            "[59]\tvalidation_0-rmse:0.428769\tvalidation_1-rmse:0.431661\n",
            "[60]\tvalidation_0-rmse:0.428405\tvalidation_1-rmse:0.431348\n",
            "[61]\tvalidation_0-rmse:0.428039\tvalidation_1-rmse:0.431266\n",
            "[62]\tvalidation_0-rmse:0.427663\tvalidation_1-rmse:0.430967\n",
            "[63]\tvalidation_0-rmse:0.427297\tvalidation_1-rmse:0.430673\n",
            "[64]\tvalidation_0-rmse:0.426928\tvalidation_1-rmse:0.430337\n",
            "[65]\tvalidation_0-rmse:0.426504\tvalidation_1-rmse:0.429878\n",
            "[66]\tvalidation_0-rmse:0.426121\tvalidation_1-rmse:0.42973\n",
            "[67]\tvalidation_0-rmse:0.425743\tvalidation_1-rmse:0.429584\n",
            "[68]\tvalidation_0-rmse:0.425327\tvalidation_1-rmse:0.428972\n",
            "[69]\tvalidation_0-rmse:0.424913\tvalidation_1-rmse:0.428873\n",
            "[70]\tvalidation_0-rmse:0.424521\tvalidation_1-rmse:0.42838\n",
            "[71]\tvalidation_0-rmse:0.424203\tvalidation_1-rmse:0.428181\n",
            "[72]\tvalidation_0-rmse:0.42393\tvalidation_1-rmse:0.427972\n",
            "[73]\tvalidation_0-rmse:0.423535\tvalidation_1-rmse:0.4276\n",
            "[74]\tvalidation_0-rmse:0.423112\tvalidation_1-rmse:0.427185\n",
            "[75]\tvalidation_0-rmse:0.422672\tvalidation_1-rmse:0.427138\n",
            "[76]\tvalidation_0-rmse:0.422335\tvalidation_1-rmse:0.42706\n",
            "[77]\tvalidation_0-rmse:0.422034\tvalidation_1-rmse:0.4267\n",
            "[78]\tvalidation_0-rmse:0.421695\tvalidation_1-rmse:0.426501\n",
            "[79]\tvalidation_0-rmse:0.421361\tvalidation_1-rmse:0.426232\n",
            "[80]\tvalidation_0-rmse:0.421063\tvalidation_1-rmse:0.426015\n",
            "[81]\tvalidation_0-rmse:0.420766\tvalidation_1-rmse:0.425676\n",
            "[82]\tvalidation_0-rmse:0.420459\tvalidation_1-rmse:0.42543\n",
            "[83]\tvalidation_0-rmse:0.420127\tvalidation_1-rmse:0.425094\n",
            "[84]\tvalidation_0-rmse:0.419749\tvalidation_1-rmse:0.424679\n",
            "[85]\tvalidation_0-rmse:0.419472\tvalidation_1-rmse:0.424434\n",
            "[86]\tvalidation_0-rmse:0.419146\tvalidation_1-rmse:0.424385\n",
            "[87]\tvalidation_0-rmse:0.418839\tvalidation_1-rmse:0.424007\n",
            "[88]\tvalidation_0-rmse:0.418534\tvalidation_1-rmse:0.423853\n",
            "[89]\tvalidation_0-rmse:0.418175\tvalidation_1-rmse:0.423596\n",
            "[90]\tvalidation_0-rmse:0.417871\tvalidation_1-rmse:0.423164\n",
            "[91]\tvalidation_0-rmse:0.417565\tvalidation_1-rmse:0.422942\n",
            "[92]\tvalidation_0-rmse:0.417283\tvalidation_1-rmse:0.422721\n",
            "[93]\tvalidation_0-rmse:0.416984\tvalidation_1-rmse:0.422318\n",
            "[94]\tvalidation_0-rmse:0.416703\tvalidation_1-rmse:0.422046\n",
            "[95]\tvalidation_0-rmse:0.416452\tvalidation_1-rmse:0.422032\n",
            "[96]\tvalidation_0-rmse:0.416212\tvalidation_1-rmse:0.421858\n",
            "[97]\tvalidation_0-rmse:0.41591\tvalidation_1-rmse:0.421755\n",
            "[98]\tvalidation_0-rmse:0.415595\tvalidation_1-rmse:0.42146\n",
            "[99]\tvalidation_0-rmse:0.415325\tvalidation_1-rmse:0.42132\n",
            "[100]\tvalidation_0-rmse:0.415006\tvalidation_1-rmse:0.421189\n",
            "[101]\tvalidation_0-rmse:0.414695\tvalidation_1-rmse:0.420814\n",
            "[102]\tvalidation_0-rmse:0.414441\tvalidation_1-rmse:0.420537\n",
            "[103]\tvalidation_0-rmse:0.414162\tvalidation_1-rmse:0.420594\n",
            "[104]\tvalidation_0-rmse:0.413867\tvalidation_1-rmse:0.420378\n",
            "[105]\tvalidation_0-rmse:0.41357\tvalidation_1-rmse:0.420166\n",
            "[106]\tvalidation_0-rmse:0.413353\tvalidation_1-rmse:0.420034\n",
            "[107]\tvalidation_0-rmse:0.413101\tvalidation_1-rmse:0.419683\n",
            "[108]\tvalidation_0-rmse:0.412875\tvalidation_1-rmse:0.419463\n",
            "[109]\tvalidation_0-rmse:0.412545\tvalidation_1-rmse:0.419275\n",
            "[110]\tvalidation_0-rmse:0.412251\tvalidation_1-rmse:0.419049\n",
            "[111]\tvalidation_0-rmse:0.411959\tvalidation_1-rmse:0.418765\n",
            "[112]\tvalidation_0-rmse:0.411715\tvalidation_1-rmse:0.418564\n",
            "[113]\tvalidation_0-rmse:0.411428\tvalidation_1-rmse:0.418268\n",
            "[114]\tvalidation_0-rmse:0.411145\tvalidation_1-rmse:0.417931\n",
            "[115]\tvalidation_0-rmse:0.41088\tvalidation_1-rmse:0.417774\n",
            "[116]\tvalidation_0-rmse:0.410624\tvalidation_1-rmse:0.417554\n",
            "[117]\tvalidation_0-rmse:0.410422\tvalidation_1-rmse:0.417249\n",
            "[118]\tvalidation_0-rmse:0.410165\tvalidation_1-rmse:0.41731\n",
            "[119]\tvalidation_0-rmse:0.409954\tvalidation_1-rmse:0.417199\n",
            "[120]\tvalidation_0-rmse:0.409676\tvalidation_1-rmse:0.417097\n",
            "[121]\tvalidation_0-rmse:0.409447\tvalidation_1-rmse:0.416904\n",
            "[122]\tvalidation_0-rmse:0.40921\tvalidation_1-rmse:0.416665\n",
            "[123]\tvalidation_0-rmse:0.40895\tvalidation_1-rmse:0.41659\n",
            "[124]\tvalidation_0-rmse:0.408709\tvalidation_1-rmse:0.416514\n",
            "[125]\tvalidation_0-rmse:0.408428\tvalidation_1-rmse:0.416342\n",
            "[126]\tvalidation_0-rmse:0.408199\tvalidation_1-rmse:0.416229\n",
            "[127]\tvalidation_0-rmse:0.407956\tvalidation_1-rmse:0.416041\n",
            "[128]\tvalidation_0-rmse:0.407715\tvalidation_1-rmse:0.415894\n",
            "[129]\tvalidation_0-rmse:0.40748\tvalidation_1-rmse:0.415496\n",
            "[130]\tvalidation_0-rmse:0.407248\tvalidation_1-rmse:0.415305\n",
            "[131]\tvalidation_0-rmse:0.407013\tvalidation_1-rmse:0.415121\n",
            "[132]\tvalidation_0-rmse:0.406803\tvalidation_1-rmse:0.415149\n",
            "[133]\tvalidation_0-rmse:0.406613\tvalidation_1-rmse:0.414998\n",
            "[134]\tvalidation_0-rmse:0.406402\tvalidation_1-rmse:0.414846\n",
            "[135]\tvalidation_0-rmse:0.406212\tvalidation_1-rmse:0.414668\n",
            "[136]\tvalidation_0-rmse:0.405948\tvalidation_1-rmse:0.414568\n",
            "[137]\tvalidation_0-rmse:0.4057\tvalidation_1-rmse:0.414509\n",
            "[138]\tvalidation_0-rmse:0.405492\tvalidation_1-rmse:0.414379\n",
            "[139]\tvalidation_0-rmse:0.405278\tvalidation_1-rmse:0.414278\n",
            "[140]\tvalidation_0-rmse:0.405087\tvalidation_1-rmse:0.414146\n",
            "[141]\tvalidation_0-rmse:0.404866\tvalidation_1-rmse:0.413875\n",
            "[142]\tvalidation_0-rmse:0.40463\tvalidation_1-rmse:0.413607\n",
            "[143]\tvalidation_0-rmse:0.404392\tvalidation_1-rmse:0.413337\n",
            "[144]\tvalidation_0-rmse:0.40415\tvalidation_1-rmse:0.4131\n",
            "[145]\tvalidation_0-rmse:0.403951\tvalidation_1-rmse:0.412929\n",
            "[146]\tvalidation_0-rmse:0.40373\tvalidation_1-rmse:0.412864\n",
            "[147]\tvalidation_0-rmse:0.403438\tvalidation_1-rmse:0.412529\n",
            "[148]\tvalidation_0-rmse:0.403229\tvalidation_1-rmse:0.412422\n",
            "[149]\tvalidation_0-rmse:0.402956\tvalidation_1-rmse:0.412307\n",
            "[150]\tvalidation_0-rmse:0.402805\tvalidation_1-rmse:0.412234\n",
            "[151]\tvalidation_0-rmse:0.402531\tvalidation_1-rmse:0.41187\n",
            "[152]\tvalidation_0-rmse:0.402328\tvalidation_1-rmse:0.411684\n",
            "[153]\tvalidation_0-rmse:0.402082\tvalidation_1-rmse:0.411622\n",
            "[154]\tvalidation_0-rmse:0.401889\tvalidation_1-rmse:0.411431\n",
            "[155]\tvalidation_0-rmse:0.401651\tvalidation_1-rmse:0.411358\n",
            "[156]\tvalidation_0-rmse:0.401475\tvalidation_1-rmse:0.411277\n",
            "[157]\tvalidation_0-rmse:0.401258\tvalidation_1-rmse:0.411072\n",
            "[158]\tvalidation_0-rmse:0.401043\tvalidation_1-rmse:0.410968\n",
            "[159]\tvalidation_0-rmse:0.400858\tvalidation_1-rmse:0.410939\n",
            "[160]\tvalidation_0-rmse:0.400658\tvalidation_1-rmse:0.410748\n",
            "[161]\tvalidation_0-rmse:0.400458\tvalidation_1-rmse:0.410698\n",
            "[162]\tvalidation_0-rmse:0.400249\tvalidation_1-rmse:0.410535\n",
            "[163]\tvalidation_0-rmse:0.400065\tvalidation_1-rmse:0.41039\n",
            "[164]\tvalidation_0-rmse:0.399897\tvalidation_1-rmse:0.410232\n",
            "[165]\tvalidation_0-rmse:0.399666\tvalidation_1-rmse:0.410081\n",
            "[166]\tvalidation_0-rmse:0.399377\tvalidation_1-rmse:0.409812\n",
            "[167]\tvalidation_0-rmse:0.399181\tvalidation_1-rmse:0.409627\n",
            "[168]\tvalidation_0-rmse:0.398988\tvalidation_1-rmse:0.409582\n",
            "[169]\tvalidation_0-rmse:0.398741\tvalidation_1-rmse:0.409424\n",
            "[170]\tvalidation_0-rmse:0.398559\tvalidation_1-rmse:0.409227\n",
            "[171]\tvalidation_0-rmse:0.398354\tvalidation_1-rmse:0.40914\n",
            "[172]\tvalidation_0-rmse:0.398174\tvalidation_1-rmse:0.409017\n",
            "[173]\tvalidation_0-rmse:0.397927\tvalidation_1-rmse:0.408997\n",
            "[174]\tvalidation_0-rmse:0.397724\tvalidation_1-rmse:0.40886\n",
            "[175]\tvalidation_0-rmse:0.397548\tvalidation_1-rmse:0.40862\n",
            "[176]\tvalidation_0-rmse:0.397374\tvalidation_1-rmse:0.408458\n",
            "[177]\tvalidation_0-rmse:0.397249\tvalidation_1-rmse:0.408322\n",
            "[178]\tvalidation_0-rmse:0.397037\tvalidation_1-rmse:0.40805\n",
            "[179]\tvalidation_0-rmse:0.396837\tvalidation_1-rmse:0.408021\n",
            "[180]\tvalidation_0-rmse:0.396679\tvalidation_1-rmse:0.407931\n",
            "[181]\tvalidation_0-rmse:0.396447\tvalidation_1-rmse:0.407757\n",
            "[182]\tvalidation_0-rmse:0.396252\tvalidation_1-rmse:0.407744\n",
            "[183]\tvalidation_0-rmse:0.396081\tvalidation_1-rmse:0.407534\n",
            "[184]\tvalidation_0-rmse:0.395956\tvalidation_1-rmse:0.407423\n",
            "[185]\tvalidation_0-rmse:0.395763\tvalidation_1-rmse:0.407201\n",
            "[186]\tvalidation_0-rmse:0.395575\tvalidation_1-rmse:0.406944\n",
            "[187]\tvalidation_0-rmse:0.395365\tvalidation_1-rmse:0.406894\n",
            "[188]\tvalidation_0-rmse:0.395175\tvalidation_1-rmse:0.406734\n",
            "[189]\tvalidation_0-rmse:0.394968\tvalidation_1-rmse:0.406653\n",
            "[190]\tvalidation_0-rmse:0.394788\tvalidation_1-rmse:0.406595\n",
            "[191]\tvalidation_0-rmse:0.394602\tvalidation_1-rmse:0.406606\n",
            "[192]\tvalidation_0-rmse:0.39437\tvalidation_1-rmse:0.406582\n",
            "[193]\tvalidation_0-rmse:0.394202\tvalidation_1-rmse:0.406394\n",
            "[194]\tvalidation_0-rmse:0.394004\tvalidation_1-rmse:0.406226\n",
            "[195]\tvalidation_0-rmse:0.393861\tvalidation_1-rmse:0.406098\n",
            "[196]\tvalidation_0-rmse:0.393674\tvalidation_1-rmse:0.405806\n",
            "[197]\tvalidation_0-rmse:0.393521\tvalidation_1-rmse:0.405781\n",
            "[198]\tvalidation_0-rmse:0.393334\tvalidation_1-rmse:0.405646\n",
            "[199]\tvalidation_0-rmse:0.39317\tvalidation_1-rmse:0.405605\n",
            "[200]\tvalidation_0-rmse:0.393038\tvalidation_1-rmse:0.405454\n",
            "[201]\tvalidation_0-rmse:0.392846\tvalidation_1-rmse:0.405222\n",
            "[202]\tvalidation_0-rmse:0.392705\tvalidation_1-rmse:0.405171\n",
            "[203]\tvalidation_0-rmse:0.392535\tvalidation_1-rmse:0.405101\n",
            "[204]\tvalidation_0-rmse:0.392355\tvalidation_1-rmse:0.404832\n",
            "[205]\tvalidation_0-rmse:0.392212\tvalidation_1-rmse:0.404696\n",
            "[206]\tvalidation_0-rmse:0.392065\tvalidation_1-rmse:0.404581\n",
            "[207]\tvalidation_0-rmse:0.391892\tvalidation_1-rmse:0.404567\n",
            "[208]\tvalidation_0-rmse:0.391727\tvalidation_1-rmse:0.40442\n",
            "[209]\tvalidation_0-rmse:0.391521\tvalidation_1-rmse:0.40443\n",
            "[210]\tvalidation_0-rmse:0.391341\tvalidation_1-rmse:0.404401\n",
            "[211]\tvalidation_0-rmse:0.391139\tvalidation_1-rmse:0.40428\n",
            "[212]\tvalidation_0-rmse:0.390936\tvalidation_1-rmse:0.404201\n",
            "[213]\tvalidation_0-rmse:0.390793\tvalidation_1-rmse:0.404156\n",
            "[214]\tvalidation_0-rmse:0.390588\tvalidation_1-rmse:0.404059\n",
            "[215]\tvalidation_0-rmse:0.390386\tvalidation_1-rmse:0.403772\n",
            "[216]\tvalidation_0-rmse:0.390217\tvalidation_1-rmse:0.403673\n",
            "[217]\tvalidation_0-rmse:0.390063\tvalidation_1-rmse:0.403531\n",
            "[218]\tvalidation_0-rmse:0.389903\tvalidation_1-rmse:0.403466\n",
            "[219]\tvalidation_0-rmse:0.389724\tvalidation_1-rmse:0.403457\n",
            "[220]\tvalidation_0-rmse:0.389473\tvalidation_1-rmse:0.403333\n",
            "[221]\tvalidation_0-rmse:0.389265\tvalidation_1-rmse:0.403137\n",
            "[222]\tvalidation_0-rmse:0.389108\tvalidation_1-rmse:0.40302\n",
            "[223]\tvalidation_0-rmse:0.388961\tvalidation_1-rmse:0.402897\n",
            "[224]\tvalidation_0-rmse:0.388842\tvalidation_1-rmse:0.402766\n",
            "[225]\tvalidation_0-rmse:0.388675\tvalidation_1-rmse:0.402537\n",
            "[226]\tvalidation_0-rmse:0.388515\tvalidation_1-rmse:0.402354\n",
            "[227]\tvalidation_0-rmse:0.388304\tvalidation_1-rmse:0.40221\n",
            "[228]\tvalidation_0-rmse:0.388032\tvalidation_1-rmse:0.402018\n",
            "[229]\tvalidation_0-rmse:0.387872\tvalidation_1-rmse:0.402027\n",
            "[230]\tvalidation_0-rmse:0.387716\tvalidation_1-rmse:0.401985\n",
            "[231]\tvalidation_0-rmse:0.387567\tvalidation_1-rmse:0.401785\n",
            "[232]\tvalidation_0-rmse:0.387368\tvalidation_1-rmse:0.401765\n",
            "[233]\tvalidation_0-rmse:0.387225\tvalidation_1-rmse:0.401671\n",
            "[234]\tvalidation_0-rmse:0.387059\tvalidation_1-rmse:0.401556\n",
            "[235]\tvalidation_0-rmse:0.386909\tvalidation_1-rmse:0.401549\n",
            "[236]\tvalidation_0-rmse:0.38678\tvalidation_1-rmse:0.401636\n",
            "[237]\tvalidation_0-rmse:0.386608\tvalidation_1-rmse:0.401529\n",
            "[238]\tvalidation_0-rmse:0.386375\tvalidation_1-rmse:0.401435\n",
            "[239]\tvalidation_0-rmse:0.386188\tvalidation_1-rmse:0.401462\n",
            "[240]\tvalidation_0-rmse:0.386027\tvalidation_1-rmse:0.401457\n",
            "[241]\tvalidation_0-rmse:0.385911\tvalidation_1-rmse:0.401399\n",
            "[242]\tvalidation_0-rmse:0.385739\tvalidation_1-rmse:0.40122\n",
            "[243]\tvalidation_0-rmse:0.385588\tvalidation_1-rmse:0.401156\n",
            "[244]\tvalidation_0-rmse:0.38544\tvalidation_1-rmse:0.401161\n",
            "[245]\tvalidation_0-rmse:0.385297\tvalidation_1-rmse:0.401008\n",
            "[246]\tvalidation_0-rmse:0.385178\tvalidation_1-rmse:0.400907\n",
            "[247]\tvalidation_0-rmse:0.385067\tvalidation_1-rmse:0.400756\n",
            "[248]\tvalidation_0-rmse:0.38492\tvalidation_1-rmse:0.400555\n",
            "[249]\tvalidation_0-rmse:0.384683\tvalidation_1-rmse:0.400433\n",
            "[250]\tvalidation_0-rmse:0.384563\tvalidation_1-rmse:0.400299\n",
            "[251]\tvalidation_0-rmse:0.384411\tvalidation_1-rmse:0.400248\n",
            "[252]\tvalidation_0-rmse:0.384285\tvalidation_1-rmse:0.400141\n",
            "[253]\tvalidation_0-rmse:0.384136\tvalidation_1-rmse:0.400008\n",
            "[254]\tvalidation_0-rmse:0.384001\tvalidation_1-rmse:0.399889\n",
            "[255]\tvalidation_0-rmse:0.383847\tvalidation_1-rmse:0.399868\n",
            "[256]\tvalidation_0-rmse:0.383696\tvalidation_1-rmse:0.399791\n",
            "[257]\tvalidation_0-rmse:0.383517\tvalidation_1-rmse:0.399698\n",
            "[258]\tvalidation_0-rmse:0.383362\tvalidation_1-rmse:0.399611\n",
            "[259]\tvalidation_0-rmse:0.383246\tvalidation_1-rmse:0.39948\n",
            "[260]\tvalidation_0-rmse:0.38313\tvalidation_1-rmse:0.399445\n",
            "[261]\tvalidation_0-rmse:0.382929\tvalidation_1-rmse:0.399382\n",
            "[262]\tvalidation_0-rmse:0.382753\tvalidation_1-rmse:0.399338\n",
            "[263]\tvalidation_0-rmse:0.382611\tvalidation_1-rmse:0.399343\n",
            "[264]\tvalidation_0-rmse:0.382441\tvalidation_1-rmse:0.39916\n",
            "[265]\tvalidation_0-rmse:0.382298\tvalidation_1-rmse:0.398889\n",
            "[266]\tvalidation_0-rmse:0.382105\tvalidation_1-rmse:0.398788\n",
            "[267]\tvalidation_0-rmse:0.381958\tvalidation_1-rmse:0.398685\n",
            "[268]\tvalidation_0-rmse:0.381824\tvalidation_1-rmse:0.39867\n",
            "[269]\tvalidation_0-rmse:0.381698\tvalidation_1-rmse:0.398571\n",
            "[270]\tvalidation_0-rmse:0.381579\tvalidation_1-rmse:0.398525\n",
            "[271]\tvalidation_0-rmse:0.381418\tvalidation_1-rmse:0.398343\n",
            "[272]\tvalidation_0-rmse:0.381296\tvalidation_1-rmse:0.398231\n",
            "[273]\tvalidation_0-rmse:0.381102\tvalidation_1-rmse:0.398174\n",
            "[274]\tvalidation_0-rmse:0.381014\tvalidation_1-rmse:0.398124\n",
            "[275]\tvalidation_0-rmse:0.38089\tvalidation_1-rmse:0.397955\n",
            "[276]\tvalidation_0-rmse:0.380755\tvalidation_1-rmse:0.39787\n",
            "[277]\tvalidation_0-rmse:0.380615\tvalidation_1-rmse:0.397781\n",
            "[278]\tvalidation_0-rmse:0.380477\tvalidation_1-rmse:0.397614\n",
            "[279]\tvalidation_0-rmse:0.380366\tvalidation_1-rmse:0.397504\n",
            "[280]\tvalidation_0-rmse:0.380193\tvalidation_1-rmse:0.397579\n",
            "[281]\tvalidation_0-rmse:0.380059\tvalidation_1-rmse:0.397627\n",
            "[282]\tvalidation_0-rmse:0.379945\tvalidation_1-rmse:0.397546\n",
            "[283]\tvalidation_0-rmse:0.379825\tvalidation_1-rmse:0.397497\n",
            "[284]\tvalidation_0-rmse:0.379689\tvalidation_1-rmse:0.397463\n",
            "[285]\tvalidation_0-rmse:0.379575\tvalidation_1-rmse:0.397411\n",
            "[286]\tvalidation_0-rmse:0.379456\tvalidation_1-rmse:0.397394\n",
            "[287]\tvalidation_0-rmse:0.379306\tvalidation_1-rmse:0.397261\n",
            "[288]\tvalidation_0-rmse:0.379169\tvalidation_1-rmse:0.397222\n",
            "[289]\tvalidation_0-rmse:0.379037\tvalidation_1-rmse:0.397069\n",
            "[290]\tvalidation_0-rmse:0.378932\tvalidation_1-rmse:0.397021\n",
            "[291]\tvalidation_0-rmse:0.378814\tvalidation_1-rmse:0.396908\n",
            "[292]\tvalidation_0-rmse:0.378636\tvalidation_1-rmse:0.39686\n",
            "[293]\tvalidation_0-rmse:0.378502\tvalidation_1-rmse:0.396799\n",
            "[294]\tvalidation_0-rmse:0.378389\tvalidation_1-rmse:0.396673\n",
            "[295]\tvalidation_0-rmse:0.378273\tvalidation_1-rmse:0.396617\n",
            "[296]\tvalidation_0-rmse:0.37813\tvalidation_1-rmse:0.396639\n",
            "[297]\tvalidation_0-rmse:0.377981\tvalidation_1-rmse:0.396548\n",
            "[298]\tvalidation_0-rmse:0.377869\tvalidation_1-rmse:0.396436\n",
            "[299]\tvalidation_0-rmse:0.377751\tvalidation_1-rmse:0.396372\n",
            "[300]\tvalidation_0-rmse:0.377638\tvalidation_1-rmse:0.39626\n",
            "[301]\tvalidation_0-rmse:0.377547\tvalidation_1-rmse:0.396253\n",
            "[302]\tvalidation_0-rmse:0.377388\tvalidation_1-rmse:0.396268\n",
            "[303]\tvalidation_0-rmse:0.377176\tvalidation_1-rmse:0.396184\n",
            "[304]\tvalidation_0-rmse:0.377088\tvalidation_1-rmse:0.396226\n",
            "[305]\tvalidation_0-rmse:0.376893\tvalidation_1-rmse:0.3961\n",
            "[306]\tvalidation_0-rmse:0.376745\tvalidation_1-rmse:0.396039\n",
            "[307]\tvalidation_0-rmse:0.376638\tvalidation_1-rmse:0.396037\n",
            "[308]\tvalidation_0-rmse:0.376518\tvalidation_1-rmse:0.395931\n",
            "[309]\tvalidation_0-rmse:0.376382\tvalidation_1-rmse:0.395843\n",
            "[310]\tvalidation_0-rmse:0.376308\tvalidation_1-rmse:0.395752\n",
            "[311]\tvalidation_0-rmse:0.376165\tvalidation_1-rmse:0.395657\n",
            "[312]\tvalidation_0-rmse:0.376045\tvalidation_1-rmse:0.395674\n",
            "[313]\tvalidation_0-rmse:0.375909\tvalidation_1-rmse:0.395546\n",
            "[314]\tvalidation_0-rmse:0.375826\tvalidation_1-rmse:0.39547\n",
            "[315]\tvalidation_0-rmse:0.375654\tvalidation_1-rmse:0.395389\n",
            "[316]\tvalidation_0-rmse:0.37551\tvalidation_1-rmse:0.395266\n",
            "[317]\tvalidation_0-rmse:0.375378\tvalidation_1-rmse:0.395247\n",
            "[318]\tvalidation_0-rmse:0.375241\tvalidation_1-rmse:0.395158\n",
            "[319]\tvalidation_0-rmse:0.375124\tvalidation_1-rmse:0.395067\n",
            "[320]\tvalidation_0-rmse:0.374983\tvalidation_1-rmse:0.394875\n",
            "[321]\tvalidation_0-rmse:0.374871\tvalidation_1-rmse:0.394868\n",
            "[322]\tvalidation_0-rmse:0.374753\tvalidation_1-rmse:0.394845\n",
            "[323]\tvalidation_0-rmse:0.374624\tvalidation_1-rmse:0.394705\n",
            "[324]\tvalidation_0-rmse:0.374529\tvalidation_1-rmse:0.394612\n",
            "[325]\tvalidation_0-rmse:0.374414\tvalidation_1-rmse:0.394612\n",
            "[326]\tvalidation_0-rmse:0.374309\tvalidation_1-rmse:0.394476\n",
            "[327]\tvalidation_0-rmse:0.374181\tvalidation_1-rmse:0.394402\n",
            "[328]\tvalidation_0-rmse:0.374025\tvalidation_1-rmse:0.394276\n",
            "[329]\tvalidation_0-rmse:0.373914\tvalidation_1-rmse:0.394313\n",
            "[330]\tvalidation_0-rmse:0.373813\tvalidation_1-rmse:0.394257\n",
            "[331]\tvalidation_0-rmse:0.373711\tvalidation_1-rmse:0.394212\n",
            "[332]\tvalidation_0-rmse:0.373616\tvalidation_1-rmse:0.394159\n",
            "[333]\tvalidation_0-rmse:0.373512\tvalidation_1-rmse:0.394086\n",
            "[334]\tvalidation_0-rmse:0.373422\tvalidation_1-rmse:0.394052\n",
            "[335]\tvalidation_0-rmse:0.373325\tvalidation_1-rmse:0.39397\n",
            "[336]\tvalidation_0-rmse:0.37321\tvalidation_1-rmse:0.393913\n",
            "[337]\tvalidation_0-rmse:0.373091\tvalidation_1-rmse:0.393883\n",
            "[338]\tvalidation_0-rmse:0.372971\tvalidation_1-rmse:0.393843\n",
            "[339]\tvalidation_0-rmse:0.37284\tvalidation_1-rmse:0.393913\n",
            "[340]\tvalidation_0-rmse:0.372738\tvalidation_1-rmse:0.393839\n",
            "[341]\tvalidation_0-rmse:0.372635\tvalidation_1-rmse:0.39365\n",
            "[342]\tvalidation_0-rmse:0.372439\tvalidation_1-rmse:0.393502\n",
            "[343]\tvalidation_0-rmse:0.372333\tvalidation_1-rmse:0.393471\n",
            "[344]\tvalidation_0-rmse:0.372228\tvalidation_1-rmse:0.39333\n",
            "[345]\tvalidation_0-rmse:0.372075\tvalidation_1-rmse:0.393342\n",
            "[346]\tvalidation_0-rmse:0.371967\tvalidation_1-rmse:0.393258\n",
            "[347]\tvalidation_0-rmse:0.371868\tvalidation_1-rmse:0.39331\n",
            "[348]\tvalidation_0-rmse:0.371745\tvalidation_1-rmse:0.393204\n",
            "[349]\tvalidation_0-rmse:0.371623\tvalidation_1-rmse:0.393081\n",
            "[350]\tvalidation_0-rmse:0.371523\tvalidation_1-rmse:0.392967\n",
            "[351]\tvalidation_0-rmse:0.371412\tvalidation_1-rmse:0.392813\n",
            "[352]\tvalidation_0-rmse:0.371302\tvalidation_1-rmse:0.392684\n",
            "[353]\tvalidation_0-rmse:0.371201\tvalidation_1-rmse:0.392679\n",
            "[354]\tvalidation_0-rmse:0.371084\tvalidation_1-rmse:0.392638\n",
            "[355]\tvalidation_0-rmse:0.370984\tvalidation_1-rmse:0.392604\n",
            "[356]\tvalidation_0-rmse:0.370884\tvalidation_1-rmse:0.392512\n",
            "[357]\tvalidation_0-rmse:0.370708\tvalidation_1-rmse:0.392573\n",
            "[358]\tvalidation_0-rmse:0.370625\tvalidation_1-rmse:0.39248\n",
            "[359]\tvalidation_0-rmse:0.370493\tvalidation_1-rmse:0.392454\n",
            "[360]\tvalidation_0-rmse:0.37039\tvalidation_1-rmse:0.392451\n",
            "[361]\tvalidation_0-rmse:0.370238\tvalidation_1-rmse:0.392352\n",
            "[362]\tvalidation_0-rmse:0.370137\tvalidation_1-rmse:0.392281\n",
            "[363]\tvalidation_0-rmse:0.370057\tvalidation_1-rmse:0.392346\n",
            "[364]\tvalidation_0-rmse:0.369972\tvalidation_1-rmse:0.392282\n",
            "[365]\tvalidation_0-rmse:0.369865\tvalidation_1-rmse:0.392231\n",
            "[366]\tvalidation_0-rmse:0.369765\tvalidation_1-rmse:0.392148\n",
            "[367]\tvalidation_0-rmse:0.36968\tvalidation_1-rmse:0.392131\n",
            "[368]\tvalidation_0-rmse:0.369583\tvalidation_1-rmse:0.392054\n",
            "[369]\tvalidation_0-rmse:0.36945\tvalidation_1-rmse:0.39193\n",
            "[370]\tvalidation_0-rmse:0.369301\tvalidation_1-rmse:0.391951\n",
            "[371]\tvalidation_0-rmse:0.369187\tvalidation_1-rmse:0.392041\n",
            "[372]\tvalidation_0-rmse:0.369078\tvalidation_1-rmse:0.392023\n",
            "[373]\tvalidation_0-rmse:0.368941\tvalidation_1-rmse:0.39202\n",
            "[374]\tvalidation_0-rmse:0.368815\tvalidation_1-rmse:0.391993\n",
            "[375]\tvalidation_0-rmse:0.368727\tvalidation_1-rmse:0.3919\n",
            "[376]\tvalidation_0-rmse:0.368607\tvalidation_1-rmse:0.391787\n",
            "[377]\tvalidation_0-rmse:0.368464\tvalidation_1-rmse:0.391647\n",
            "[378]\tvalidation_0-rmse:0.368363\tvalidation_1-rmse:0.391543\n",
            "[379]\tvalidation_0-rmse:0.368264\tvalidation_1-rmse:0.391485\n",
            "[380]\tvalidation_0-rmse:0.368139\tvalidation_1-rmse:0.391427\n",
            "[381]\tvalidation_0-rmse:0.36803\tvalidation_1-rmse:0.391351\n",
            "[382]\tvalidation_0-rmse:0.367923\tvalidation_1-rmse:0.391238\n",
            "[383]\tvalidation_0-rmse:0.367846\tvalidation_1-rmse:0.391179\n",
            "[384]\tvalidation_0-rmse:0.367752\tvalidation_1-rmse:0.391157\n",
            "[385]\tvalidation_0-rmse:0.367662\tvalidation_1-rmse:0.391103\n",
            "[386]\tvalidation_0-rmse:0.367541\tvalidation_1-rmse:0.391068\n",
            "[387]\tvalidation_0-rmse:0.367399\tvalidation_1-rmse:0.39098\n",
            "[388]\tvalidation_0-rmse:0.367316\tvalidation_1-rmse:0.390932\n",
            "[389]\tvalidation_0-rmse:0.367251\tvalidation_1-rmse:0.390887\n",
            "[390]\tvalidation_0-rmse:0.367147\tvalidation_1-rmse:0.390919\n",
            "[391]\tvalidation_0-rmse:0.367041\tvalidation_1-rmse:0.390857\n",
            "[392]\tvalidation_0-rmse:0.366937\tvalidation_1-rmse:0.390683\n",
            "[393]\tvalidation_0-rmse:0.366824\tvalidation_1-rmse:0.390631\n",
            "[394]\tvalidation_0-rmse:0.366745\tvalidation_1-rmse:0.390613\n",
            "[395]\tvalidation_0-rmse:0.366637\tvalidation_1-rmse:0.390495\n",
            "[396]\tvalidation_0-rmse:0.366544\tvalidation_1-rmse:0.390498\n",
            "[397]\tvalidation_0-rmse:0.366416\tvalidation_1-rmse:0.390528\n",
            "[398]\tvalidation_0-rmse:0.366319\tvalidation_1-rmse:0.390469\n",
            "[399]\tvalidation_0-rmse:0.366191\tvalidation_1-rmse:0.390422\n",
            "[400]\tvalidation_0-rmse:0.366064\tvalidation_1-rmse:0.390355\n",
            "[401]\tvalidation_0-rmse:0.36597\tvalidation_1-rmse:0.390229\n",
            "[402]\tvalidation_0-rmse:0.365895\tvalidation_1-rmse:0.390217\n",
            "[403]\tvalidation_0-rmse:0.365756\tvalidation_1-rmse:0.390183\n",
            "[404]\tvalidation_0-rmse:0.365664\tvalidation_1-rmse:0.390093\n",
            "[405]\tvalidation_0-rmse:0.365581\tvalidation_1-rmse:0.39002\n",
            "[406]\tvalidation_0-rmse:0.365484\tvalidation_1-rmse:0.390027\n",
            "[407]\tvalidation_0-rmse:0.365395\tvalidation_1-rmse:0.389991\n",
            "[408]\tvalidation_0-rmse:0.365306\tvalidation_1-rmse:0.389919\n",
            "[409]\tvalidation_0-rmse:0.365226\tvalidation_1-rmse:0.389884\n",
            "[410]\tvalidation_0-rmse:0.365129\tvalidation_1-rmse:0.389913\n",
            "[411]\tvalidation_0-rmse:0.365051\tvalidation_1-rmse:0.389903\n",
            "[412]\tvalidation_0-rmse:0.364955\tvalidation_1-rmse:0.389862\n",
            "[413]\tvalidation_0-rmse:0.36487\tvalidation_1-rmse:0.389855\n",
            "[414]\tvalidation_0-rmse:0.364757\tvalidation_1-rmse:0.389789\n",
            "[415]\tvalidation_0-rmse:0.364665\tvalidation_1-rmse:0.389744\n",
            "[416]\tvalidation_0-rmse:0.364582\tvalidation_1-rmse:0.389682\n",
            "[417]\tvalidation_0-rmse:0.364473\tvalidation_1-rmse:0.389577\n",
            "[418]\tvalidation_0-rmse:0.364354\tvalidation_1-rmse:0.389434\n",
            "[419]\tvalidation_0-rmse:0.364247\tvalidation_1-rmse:0.389373\n",
            "[420]\tvalidation_0-rmse:0.364092\tvalidation_1-rmse:0.389319\n",
            "[421]\tvalidation_0-rmse:0.363992\tvalidation_1-rmse:0.389309\n",
            "[422]\tvalidation_0-rmse:0.363866\tvalidation_1-rmse:0.389256\n",
            "[423]\tvalidation_0-rmse:0.3637\tvalidation_1-rmse:0.38914\n",
            "[424]\tvalidation_0-rmse:0.363614\tvalidation_1-rmse:0.389057\n",
            "[425]\tvalidation_0-rmse:0.36349\tvalidation_1-rmse:0.389051\n",
            "[426]\tvalidation_0-rmse:0.363402\tvalidation_1-rmse:0.388898\n",
            "[427]\tvalidation_0-rmse:0.36331\tvalidation_1-rmse:0.388862\n",
            "[428]\tvalidation_0-rmse:0.363215\tvalidation_1-rmse:0.388811\n",
            "[429]\tvalidation_0-rmse:0.363098\tvalidation_1-rmse:0.388879\n",
            "[430]\tvalidation_0-rmse:0.363008\tvalidation_1-rmse:0.388816\n",
            "[431]\tvalidation_0-rmse:0.362895\tvalidation_1-rmse:0.388704\n",
            "[432]\tvalidation_0-rmse:0.362817\tvalidation_1-rmse:0.388637\n",
            "[433]\tvalidation_0-rmse:0.362729\tvalidation_1-rmse:0.388598\n",
            "[434]\tvalidation_0-rmse:0.362648\tvalidation_1-rmse:0.38855\n",
            "[435]\tvalidation_0-rmse:0.362547\tvalidation_1-rmse:0.388442\n",
            "[436]\tvalidation_0-rmse:0.362456\tvalidation_1-rmse:0.388459\n",
            "[437]\tvalidation_0-rmse:0.362343\tvalidation_1-rmse:0.388321\n",
            "[438]\tvalidation_0-rmse:0.362248\tvalidation_1-rmse:0.388312\n",
            "[439]\tvalidation_0-rmse:0.36216\tvalidation_1-rmse:0.388227\n",
            "[440]\tvalidation_0-rmse:0.362071\tvalidation_1-rmse:0.388223\n",
            "[441]\tvalidation_0-rmse:0.361985\tvalidation_1-rmse:0.388155\n",
            "[442]\tvalidation_0-rmse:0.361919\tvalidation_1-rmse:0.388165\n",
            "[443]\tvalidation_0-rmse:0.361842\tvalidation_1-rmse:0.388099\n",
            "[444]\tvalidation_0-rmse:0.361742\tvalidation_1-rmse:0.388044\n",
            "[445]\tvalidation_0-rmse:0.361632\tvalidation_1-rmse:0.387916\n",
            "[446]\tvalidation_0-rmse:0.361538\tvalidation_1-rmse:0.387907\n",
            "[447]\tvalidation_0-rmse:0.361457\tvalidation_1-rmse:0.387946\n",
            "[448]\tvalidation_0-rmse:0.36136\tvalidation_1-rmse:0.387884\n",
            "[449]\tvalidation_0-rmse:0.361275\tvalidation_1-rmse:0.387873\n",
            "[450]\tvalidation_0-rmse:0.361214\tvalidation_1-rmse:0.387822\n",
            "[451]\tvalidation_0-rmse:0.361084\tvalidation_1-rmse:0.387846\n",
            "[452]\tvalidation_0-rmse:0.360998\tvalidation_1-rmse:0.387895\n",
            "[453]\tvalidation_0-rmse:0.360912\tvalidation_1-rmse:0.387882\n",
            "[454]\tvalidation_0-rmse:0.360832\tvalidation_1-rmse:0.387798\n",
            "[455]\tvalidation_0-rmse:0.360746\tvalidation_1-rmse:0.387777\n",
            "[456]\tvalidation_0-rmse:0.360649\tvalidation_1-rmse:0.387771\n",
            "[457]\tvalidation_0-rmse:0.360597\tvalidation_1-rmse:0.387738\n",
            "[458]\tvalidation_0-rmse:0.360508\tvalidation_1-rmse:0.38776\n",
            "[459]\tvalidation_0-rmse:0.360406\tvalidation_1-rmse:0.387731\n",
            "[460]\tvalidation_0-rmse:0.360304\tvalidation_1-rmse:0.387723\n",
            "[461]\tvalidation_0-rmse:0.360213\tvalidation_1-rmse:0.387736\n",
            "[462]\tvalidation_0-rmse:0.360098\tvalidation_1-rmse:0.387579\n",
            "[463]\tvalidation_0-rmse:0.359997\tvalidation_1-rmse:0.387354\n",
            "[464]\tvalidation_0-rmse:0.359863\tvalidation_1-rmse:0.387324\n",
            "[465]\tvalidation_0-rmse:0.35979\tvalidation_1-rmse:0.387271\n",
            "[466]\tvalidation_0-rmse:0.359708\tvalidation_1-rmse:0.387246\n",
            "[467]\tvalidation_0-rmse:0.359573\tvalidation_1-rmse:0.387178\n",
            "[468]\tvalidation_0-rmse:0.359485\tvalidation_1-rmse:0.387219\n",
            "[469]\tvalidation_0-rmse:0.359435\tvalidation_1-rmse:0.387195\n",
            "[470]\tvalidation_0-rmse:0.359339\tvalidation_1-rmse:0.387165\n",
            "[471]\tvalidation_0-rmse:0.359272\tvalidation_1-rmse:0.387199\n",
            "[472]\tvalidation_0-rmse:0.359183\tvalidation_1-rmse:0.387153\n",
            "[473]\tvalidation_0-rmse:0.359112\tvalidation_1-rmse:0.387098\n",
            "[474]\tvalidation_0-rmse:0.35901\tvalidation_1-rmse:0.387041\n",
            "[475]\tvalidation_0-rmse:0.358885\tvalidation_1-rmse:0.386988\n",
            "[476]\tvalidation_0-rmse:0.358815\tvalidation_1-rmse:0.38693\n",
            "[477]\tvalidation_0-rmse:0.358706\tvalidation_1-rmse:0.386897\n",
            "[478]\tvalidation_0-rmse:0.358625\tvalidation_1-rmse:0.386838\n",
            "[479]\tvalidation_0-rmse:0.358554\tvalidation_1-rmse:0.386776\n",
            "[480]\tvalidation_0-rmse:0.358486\tvalidation_1-rmse:0.386688\n",
            "[481]\tvalidation_0-rmse:0.358328\tvalidation_1-rmse:0.386607\n",
            "[482]\tvalidation_0-rmse:0.358251\tvalidation_1-rmse:0.386597\n",
            "[483]\tvalidation_0-rmse:0.358172\tvalidation_1-rmse:0.386554\n",
            "[484]\tvalidation_0-rmse:0.358077\tvalidation_1-rmse:0.386515\n",
            "[485]\tvalidation_0-rmse:0.357973\tvalidation_1-rmse:0.386526\n",
            "[486]\tvalidation_0-rmse:0.357889\tvalidation_1-rmse:0.386566\n",
            "[487]\tvalidation_0-rmse:0.357735\tvalidation_1-rmse:0.386508\n",
            "[488]\tvalidation_0-rmse:0.357667\tvalidation_1-rmse:0.386463\n",
            "[489]\tvalidation_0-rmse:0.35759\tvalidation_1-rmse:0.386437\n",
            "[490]\tvalidation_0-rmse:0.357521\tvalidation_1-rmse:0.386432\n",
            "[491]\tvalidation_0-rmse:0.357442\tvalidation_1-rmse:0.386416\n",
            "[492]\tvalidation_0-rmse:0.35737\tvalidation_1-rmse:0.386352\n",
            "[493]\tvalidation_0-rmse:0.357299\tvalidation_1-rmse:0.38631\n",
            "[494]\tvalidation_0-rmse:0.357222\tvalidation_1-rmse:0.386328\n",
            "[495]\tvalidation_0-rmse:0.357133\tvalidation_1-rmse:0.386301\n",
            "[496]\tvalidation_0-rmse:0.357037\tvalidation_1-rmse:0.386199\n",
            "[497]\tvalidation_0-rmse:0.356954\tvalidation_1-rmse:0.386128\n",
            "[498]\tvalidation_0-rmse:0.356873\tvalidation_1-rmse:0.386117\n",
            "[499]\tvalidation_0-rmse:0.356788\tvalidation_1-rmse:0.386065\n",
            "[500]\tvalidation_0-rmse:0.35668\tvalidation_1-rmse:0.386101\n",
            "[501]\tvalidation_0-rmse:0.356614\tvalidation_1-rmse:0.386068\n",
            "[502]\tvalidation_0-rmse:0.356524\tvalidation_1-rmse:0.386047\n",
            "[503]\tvalidation_0-rmse:0.35644\tvalidation_1-rmse:0.385911\n",
            "[504]\tvalidation_0-rmse:0.356379\tvalidation_1-rmse:0.38586\n",
            "[505]\tvalidation_0-rmse:0.356301\tvalidation_1-rmse:0.385803\n",
            "[506]\tvalidation_0-rmse:0.356177\tvalidation_1-rmse:0.385729\n",
            "[507]\tvalidation_0-rmse:0.356074\tvalidation_1-rmse:0.385639\n",
            "[508]\tvalidation_0-rmse:0.355972\tvalidation_1-rmse:0.385588\n",
            "[509]\tvalidation_0-rmse:0.355898\tvalidation_1-rmse:0.385607\n",
            "[510]\tvalidation_0-rmse:0.355825\tvalidation_1-rmse:0.385559\n",
            "[511]\tvalidation_0-rmse:0.355733\tvalidation_1-rmse:0.385544\n",
            "[512]\tvalidation_0-rmse:0.355651\tvalidation_1-rmse:0.385594\n",
            "[513]\tvalidation_0-rmse:0.355565\tvalidation_1-rmse:0.385561\n",
            "[514]\tvalidation_0-rmse:0.355489\tvalidation_1-rmse:0.385542\n",
            "[515]\tvalidation_0-rmse:0.355392\tvalidation_1-rmse:0.38546\n",
            "[516]\tvalidation_0-rmse:0.355259\tvalidation_1-rmse:0.385517\n",
            "[517]\tvalidation_0-rmse:0.355152\tvalidation_1-rmse:0.385527\n",
            "[518]\tvalidation_0-rmse:0.355058\tvalidation_1-rmse:0.385439\n",
            "[519]\tvalidation_0-rmse:0.354955\tvalidation_1-rmse:0.385387\n",
            "[520]\tvalidation_0-rmse:0.354851\tvalidation_1-rmse:0.385307\n",
            "[521]\tvalidation_0-rmse:0.354774\tvalidation_1-rmse:0.385245\n",
            "[522]\tvalidation_0-rmse:0.354681\tvalidation_1-rmse:0.385146\n",
            "[523]\tvalidation_0-rmse:0.354596\tvalidation_1-rmse:0.385166\n",
            "[524]\tvalidation_0-rmse:0.354475\tvalidation_1-rmse:0.385247\n",
            "[525]\tvalidation_0-rmse:0.3544\tvalidation_1-rmse:0.3852\n",
            "[526]\tvalidation_0-rmse:0.354327\tvalidation_1-rmse:0.385206\n",
            "[527]\tvalidation_0-rmse:0.354208\tvalidation_1-rmse:0.385157\n",
            "[528]\tvalidation_0-rmse:0.354146\tvalidation_1-rmse:0.385129\n",
            "[529]\tvalidation_0-rmse:0.354064\tvalidation_1-rmse:0.38515\n",
            "[530]\tvalidation_0-rmse:0.353995\tvalidation_1-rmse:0.385084\n",
            "[531]\tvalidation_0-rmse:0.353921\tvalidation_1-rmse:0.385112\n",
            "[532]\tvalidation_0-rmse:0.35385\tvalidation_1-rmse:0.385058\n",
            "[533]\tvalidation_0-rmse:0.353792\tvalidation_1-rmse:0.385013\n",
            "[534]\tvalidation_0-rmse:0.353712\tvalidation_1-rmse:0.385026\n",
            "[535]\tvalidation_0-rmse:0.353653\tvalidation_1-rmse:0.384985\n",
            "[536]\tvalidation_0-rmse:0.353585\tvalidation_1-rmse:0.385038\n",
            "[537]\tvalidation_0-rmse:0.353522\tvalidation_1-rmse:0.385041\n",
            "[538]\tvalidation_0-rmse:0.35346\tvalidation_1-rmse:0.384984\n",
            "[539]\tvalidation_0-rmse:0.353384\tvalidation_1-rmse:0.384995\n",
            "[540]\tvalidation_0-rmse:0.353328\tvalidation_1-rmse:0.38497\n",
            "[541]\tvalidation_0-rmse:0.353261\tvalidation_1-rmse:0.384906\n",
            "[542]\tvalidation_0-rmse:0.353152\tvalidation_1-rmse:0.384887\n",
            "[543]\tvalidation_0-rmse:0.353073\tvalidation_1-rmse:0.384872\n",
            "[544]\tvalidation_0-rmse:0.352998\tvalidation_1-rmse:0.384866\n",
            "[545]\tvalidation_0-rmse:0.352912\tvalidation_1-rmse:0.384852\n",
            "[546]\tvalidation_0-rmse:0.352843\tvalidation_1-rmse:0.384827\n",
            "[547]\tvalidation_0-rmse:0.352769\tvalidation_1-rmse:0.384726\n",
            "[548]\tvalidation_0-rmse:0.352701\tvalidation_1-rmse:0.384697\n",
            "[549]\tvalidation_0-rmse:0.352599\tvalidation_1-rmse:0.384637\n",
            "[550]\tvalidation_0-rmse:0.352514\tvalidation_1-rmse:0.384539\n",
            "[551]\tvalidation_0-rmse:0.35239\tvalidation_1-rmse:0.384501\n",
            "[552]\tvalidation_0-rmse:0.352313\tvalidation_1-rmse:0.384512\n",
            "[553]\tvalidation_0-rmse:0.352236\tvalidation_1-rmse:0.384452\n",
            "[554]\tvalidation_0-rmse:0.352166\tvalidation_1-rmse:0.384355\n",
            "[555]\tvalidation_0-rmse:0.352079\tvalidation_1-rmse:0.384333\n",
            "[556]\tvalidation_0-rmse:0.351997\tvalidation_1-rmse:0.384333\n",
            "[557]\tvalidation_0-rmse:0.351889\tvalidation_1-rmse:0.384152\n",
            "[558]\tvalidation_0-rmse:0.351783\tvalidation_1-rmse:0.384062\n",
            "[559]\tvalidation_0-rmse:0.351702\tvalidation_1-rmse:0.384049\n",
            "[560]\tvalidation_0-rmse:0.351642\tvalidation_1-rmse:0.384005\n",
            "[561]\tvalidation_0-rmse:0.35152\tvalidation_1-rmse:0.383939\n",
            "[562]\tvalidation_0-rmse:0.351444\tvalidation_1-rmse:0.38387\n",
            "[563]\tvalidation_0-rmse:0.351402\tvalidation_1-rmse:0.383846\n",
            "[564]\tvalidation_0-rmse:0.351338\tvalidation_1-rmse:0.383778\n",
            "[565]\tvalidation_0-rmse:0.351233\tvalidation_1-rmse:0.383767\n",
            "[566]\tvalidation_0-rmse:0.351171\tvalidation_1-rmse:0.383737\n",
            "[567]\tvalidation_0-rmse:0.351097\tvalidation_1-rmse:0.38372\n",
            "[568]\tvalidation_0-rmse:0.350997\tvalidation_1-rmse:0.383738\n",
            "[569]\tvalidation_0-rmse:0.350919\tvalidation_1-rmse:0.383767\n",
            "[570]\tvalidation_0-rmse:0.350839\tvalidation_1-rmse:0.383807\n",
            "[571]\tvalidation_0-rmse:0.350774\tvalidation_1-rmse:0.383722\n",
            "[572]\tvalidation_0-rmse:0.350715\tvalidation_1-rmse:0.383702\n",
            "[573]\tvalidation_0-rmse:0.350645\tvalidation_1-rmse:0.383598\n",
            "[574]\tvalidation_0-rmse:0.350578\tvalidation_1-rmse:0.383589\n",
            "[575]\tvalidation_0-rmse:0.350498\tvalidation_1-rmse:0.383524\n",
            "[576]\tvalidation_0-rmse:0.350442\tvalidation_1-rmse:0.383483\n",
            "[577]\tvalidation_0-rmse:0.350372\tvalidation_1-rmse:0.383391\n",
            "[578]\tvalidation_0-rmse:0.3503\tvalidation_1-rmse:0.383422\n",
            "[579]\tvalidation_0-rmse:0.350216\tvalidation_1-rmse:0.383376\n",
            "[580]\tvalidation_0-rmse:0.35013\tvalidation_1-rmse:0.383355\n",
            "[581]\tvalidation_0-rmse:0.350031\tvalidation_1-rmse:0.383418\n",
            "[582]\tvalidation_0-rmse:0.349945\tvalidation_1-rmse:0.383375\n",
            "[583]\tvalidation_0-rmse:0.349856\tvalidation_1-rmse:0.383282\n",
            "[584]\tvalidation_0-rmse:0.349758\tvalidation_1-rmse:0.383252\n",
            "[585]\tvalidation_0-rmse:0.34967\tvalidation_1-rmse:0.38324\n",
            "[586]\tvalidation_0-rmse:0.349592\tvalidation_1-rmse:0.383222\n",
            "[587]\tvalidation_0-rmse:0.349521\tvalidation_1-rmse:0.383138\n",
            "[588]\tvalidation_0-rmse:0.349452\tvalidation_1-rmse:0.383083\n",
            "[589]\tvalidation_0-rmse:0.349393\tvalidation_1-rmse:0.383034\n",
            "[590]\tvalidation_0-rmse:0.349312\tvalidation_1-rmse:0.382962\n",
            "[591]\tvalidation_0-rmse:0.349244\tvalidation_1-rmse:0.382915\n",
            "[592]\tvalidation_0-rmse:0.349128\tvalidation_1-rmse:0.38293\n",
            "[593]\tvalidation_0-rmse:0.349064\tvalidation_1-rmse:0.382899\n",
            "[594]\tvalidation_0-rmse:0.348998\tvalidation_1-rmse:0.382883\n",
            "[595]\tvalidation_0-rmse:0.348902\tvalidation_1-rmse:0.382825\n",
            "[596]\tvalidation_0-rmse:0.348815\tvalidation_1-rmse:0.382832\n",
            "[597]\tvalidation_0-rmse:0.348747\tvalidation_1-rmse:0.382897\n",
            "[598]\tvalidation_0-rmse:0.348636\tvalidation_1-rmse:0.382836\n",
            "[599]\tvalidation_0-rmse:0.34857\tvalidation_1-rmse:0.382819\n",
            "[600]\tvalidation_0-rmse:0.348522\tvalidation_1-rmse:0.38278\n",
            "[601]\tvalidation_0-rmse:0.34846\tvalidation_1-rmse:0.38282\n",
            "[602]\tvalidation_0-rmse:0.348381\tvalidation_1-rmse:0.382788\n",
            "[603]\tvalidation_0-rmse:0.348315\tvalidation_1-rmse:0.38278\n",
            "[604]\tvalidation_0-rmse:0.348262\tvalidation_1-rmse:0.382762\n",
            "[605]\tvalidation_0-rmse:0.348157\tvalidation_1-rmse:0.382795\n",
            "[606]\tvalidation_0-rmse:0.348082\tvalidation_1-rmse:0.382725\n",
            "[607]\tvalidation_0-rmse:0.348004\tvalidation_1-rmse:0.382691\n",
            "[608]\tvalidation_0-rmse:0.347952\tvalidation_1-rmse:0.382679\n",
            "[609]\tvalidation_0-rmse:0.347872\tvalidation_1-rmse:0.382604\n",
            "[610]\tvalidation_0-rmse:0.34781\tvalidation_1-rmse:0.382612\n",
            "[611]\tvalidation_0-rmse:0.347742\tvalidation_1-rmse:0.382559\n",
            "[612]\tvalidation_0-rmse:0.347668\tvalidation_1-rmse:0.382541\n",
            "[613]\tvalidation_0-rmse:0.347606\tvalidation_1-rmse:0.382503\n",
            "[614]\tvalidation_0-rmse:0.347531\tvalidation_1-rmse:0.382473\n",
            "[615]\tvalidation_0-rmse:0.347435\tvalidation_1-rmse:0.382308\n",
            "[616]\tvalidation_0-rmse:0.347367\tvalidation_1-rmse:0.382285\n",
            "[617]\tvalidation_0-rmse:0.347279\tvalidation_1-rmse:0.382258\n",
            "[618]\tvalidation_0-rmse:0.347203\tvalidation_1-rmse:0.382248\n",
            "[619]\tvalidation_0-rmse:0.347127\tvalidation_1-rmse:0.382163\n",
            "[620]\tvalidation_0-rmse:0.347069\tvalidation_1-rmse:0.382163\n",
            "[621]\tvalidation_0-rmse:0.347016\tvalidation_1-rmse:0.382104\n",
            "[622]\tvalidation_0-rmse:0.34695\tvalidation_1-rmse:0.382089\n",
            "[623]\tvalidation_0-rmse:0.346876\tvalidation_1-rmse:0.382105\n",
            "[624]\tvalidation_0-rmse:0.346737\tvalidation_1-rmse:0.382102\n",
            "[625]\tvalidation_0-rmse:0.346674\tvalidation_1-rmse:0.38209\n",
            "[626]\tvalidation_0-rmse:0.346608\tvalidation_1-rmse:0.382101\n",
            "[627]\tvalidation_0-rmse:0.346527\tvalidation_1-rmse:0.382014\n",
            "[628]\tvalidation_0-rmse:0.346473\tvalidation_1-rmse:0.382059\n",
            "[629]\tvalidation_0-rmse:0.346409\tvalidation_1-rmse:0.382049\n",
            "[630]\tvalidation_0-rmse:0.346348\tvalidation_1-rmse:0.382093\n",
            "[631]\tvalidation_0-rmse:0.346289\tvalidation_1-rmse:0.382005\n",
            "[632]\tvalidation_0-rmse:0.34624\tvalidation_1-rmse:0.381968\n",
            "[633]\tvalidation_0-rmse:0.346172\tvalidation_1-rmse:0.381953\n",
            "[634]\tvalidation_0-rmse:0.346068\tvalidation_1-rmse:0.381863\n",
            "[635]\tvalidation_0-rmse:0.346016\tvalidation_1-rmse:0.381771\n",
            "[636]\tvalidation_0-rmse:0.345936\tvalidation_1-rmse:0.381683\n",
            "[637]\tvalidation_0-rmse:0.345877\tvalidation_1-rmse:0.381638\n",
            "[638]\tvalidation_0-rmse:0.345819\tvalidation_1-rmse:0.381603\n",
            "[639]\tvalidation_0-rmse:0.345763\tvalidation_1-rmse:0.381656\n",
            "[640]\tvalidation_0-rmse:0.34568\tvalidation_1-rmse:0.381493\n",
            "[641]\tvalidation_0-rmse:0.34561\tvalidation_1-rmse:0.381476\n",
            "[642]\tvalidation_0-rmse:0.345549\tvalidation_1-rmse:0.381443\n",
            "[643]\tvalidation_0-rmse:0.345481\tvalidation_1-rmse:0.381436\n",
            "[644]\tvalidation_0-rmse:0.345416\tvalidation_1-rmse:0.381454\n",
            "[645]\tvalidation_0-rmse:0.345351\tvalidation_1-rmse:0.38141\n",
            "[646]\tvalidation_0-rmse:0.345291\tvalidation_1-rmse:0.381369\n",
            "[647]\tvalidation_0-rmse:0.345201\tvalidation_1-rmse:0.38138\n",
            "[648]\tvalidation_0-rmse:0.345141\tvalidation_1-rmse:0.381382\n",
            "[649]\tvalidation_0-rmse:0.345081\tvalidation_1-rmse:0.381405\n",
            "[650]\tvalidation_0-rmse:0.345036\tvalidation_1-rmse:0.381378\n",
            "[651]\tvalidation_0-rmse:0.344943\tvalidation_1-rmse:0.381299\n",
            "[652]\tvalidation_0-rmse:0.344875\tvalidation_1-rmse:0.381211\n",
            "[653]\tvalidation_0-rmse:0.344776\tvalidation_1-rmse:0.381198\n",
            "[654]\tvalidation_0-rmse:0.344692\tvalidation_1-rmse:0.38122\n",
            "[655]\tvalidation_0-rmse:0.344642\tvalidation_1-rmse:0.381212\n",
            "[656]\tvalidation_0-rmse:0.344587\tvalidation_1-rmse:0.381156\n",
            "[657]\tvalidation_0-rmse:0.344524\tvalidation_1-rmse:0.38116\n",
            "[658]\tvalidation_0-rmse:0.344466\tvalidation_1-rmse:0.381118\n",
            "[659]\tvalidation_0-rmse:0.344393\tvalidation_1-rmse:0.381035\n",
            "[660]\tvalidation_0-rmse:0.344316\tvalidation_1-rmse:0.38094\n",
            "[661]\tvalidation_0-rmse:0.344257\tvalidation_1-rmse:0.380935\n",
            "[662]\tvalidation_0-rmse:0.344161\tvalidation_1-rmse:0.381012\n",
            "[663]\tvalidation_0-rmse:0.344102\tvalidation_1-rmse:0.381021\n",
            "[664]\tvalidation_0-rmse:0.344045\tvalidation_1-rmse:0.381029\n",
            "[665]\tvalidation_0-rmse:0.343977\tvalidation_1-rmse:0.381017\n",
            "[666]\tvalidation_0-rmse:0.343919\tvalidation_1-rmse:0.380998\n",
            "[667]\tvalidation_0-rmse:0.343856\tvalidation_1-rmse:0.380952\n",
            "[668]\tvalidation_0-rmse:0.343805\tvalidation_1-rmse:0.380934\n",
            "[669]\tvalidation_0-rmse:0.343744\tvalidation_1-rmse:0.380902\n",
            "[670]\tvalidation_0-rmse:0.343669\tvalidation_1-rmse:0.380925\n",
            "[671]\tvalidation_0-rmse:0.343623\tvalidation_1-rmse:0.380907\n",
            "[672]\tvalidation_0-rmse:0.343554\tvalidation_1-rmse:0.380824\n",
            "[673]\tvalidation_0-rmse:0.343509\tvalidation_1-rmse:0.380826\n",
            "[674]\tvalidation_0-rmse:0.343441\tvalidation_1-rmse:0.380858\n",
            "[675]\tvalidation_0-rmse:0.343383\tvalidation_1-rmse:0.380775\n",
            "[676]\tvalidation_0-rmse:0.343295\tvalidation_1-rmse:0.380695\n",
            "[677]\tvalidation_0-rmse:0.343223\tvalidation_1-rmse:0.380746\n",
            "[678]\tvalidation_0-rmse:0.343159\tvalidation_1-rmse:0.380665\n",
            "[679]\tvalidation_0-rmse:0.343088\tvalidation_1-rmse:0.3807\n",
            "[680]\tvalidation_0-rmse:0.342997\tvalidation_1-rmse:0.380721\n",
            "[681]\tvalidation_0-rmse:0.342949\tvalidation_1-rmse:0.380643\n",
            "[682]\tvalidation_0-rmse:0.342882\tvalidation_1-rmse:0.380689\n",
            "[683]\tvalidation_0-rmse:0.34282\tvalidation_1-rmse:0.380636\n",
            "[684]\tvalidation_0-rmse:0.342768\tvalidation_1-rmse:0.38061\n",
            "[685]\tvalidation_0-rmse:0.342709\tvalidation_1-rmse:0.380579\n",
            "[686]\tvalidation_0-rmse:0.342658\tvalidation_1-rmse:0.380582\n",
            "[687]\tvalidation_0-rmse:0.342593\tvalidation_1-rmse:0.380565\n",
            "[688]\tvalidation_0-rmse:0.342496\tvalidation_1-rmse:0.380571\n",
            "[689]\tvalidation_0-rmse:0.342433\tvalidation_1-rmse:0.380539\n",
            "[690]\tvalidation_0-rmse:0.342394\tvalidation_1-rmse:0.380494\n",
            "[691]\tvalidation_0-rmse:0.342319\tvalidation_1-rmse:0.380492\n",
            "[692]\tvalidation_0-rmse:0.342265\tvalidation_1-rmse:0.380426\n",
            "[693]\tvalidation_0-rmse:0.34221\tvalidation_1-rmse:0.380434\n",
            "[694]\tvalidation_0-rmse:0.342117\tvalidation_1-rmse:0.380399\n",
            "[695]\tvalidation_0-rmse:0.342038\tvalidation_1-rmse:0.380428\n",
            "[696]\tvalidation_0-rmse:0.341974\tvalidation_1-rmse:0.380395\n",
            "[697]\tvalidation_0-rmse:0.341919\tvalidation_1-rmse:0.380437\n",
            "[698]\tvalidation_0-rmse:0.341862\tvalidation_1-rmse:0.380462\n",
            "[699]\tvalidation_0-rmse:0.341804\tvalidation_1-rmse:0.380339\n",
            "[700]\tvalidation_0-rmse:0.341757\tvalidation_1-rmse:0.380322\n",
            "[701]\tvalidation_0-rmse:0.341697\tvalidation_1-rmse:0.380353\n",
            "[702]\tvalidation_0-rmse:0.341625\tvalidation_1-rmse:0.380339\n",
            "[703]\tvalidation_0-rmse:0.341578\tvalidation_1-rmse:0.380318\n",
            "[704]\tvalidation_0-rmse:0.341512\tvalidation_1-rmse:0.380244\n",
            "[705]\tvalidation_0-rmse:0.34143\tvalidation_1-rmse:0.380172\n",
            "[706]\tvalidation_0-rmse:0.341374\tvalidation_1-rmse:0.380207\n",
            "[707]\tvalidation_0-rmse:0.341321\tvalidation_1-rmse:0.380203\n",
            "[708]\tvalidation_0-rmse:0.341223\tvalidation_1-rmse:0.380195\n",
            "[709]\tvalidation_0-rmse:0.341153\tvalidation_1-rmse:0.380141\n",
            "[710]\tvalidation_0-rmse:0.341078\tvalidation_1-rmse:0.380144\n",
            "[711]\tvalidation_0-rmse:0.341022\tvalidation_1-rmse:0.380184\n",
            "[712]\tvalidation_0-rmse:0.340945\tvalidation_1-rmse:0.380106\n",
            "[713]\tvalidation_0-rmse:0.340883\tvalidation_1-rmse:0.380045\n",
            "[714]\tvalidation_0-rmse:0.340829\tvalidation_1-rmse:0.380016\n",
            "[715]\tvalidation_0-rmse:0.34076\tvalidation_1-rmse:0.379975\n",
            "[716]\tvalidation_0-rmse:0.340702\tvalidation_1-rmse:0.379928\n",
            "[717]\tvalidation_0-rmse:0.340659\tvalidation_1-rmse:0.379897\n",
            "[718]\tvalidation_0-rmse:0.3406\tvalidation_1-rmse:0.379915\n",
            "[719]\tvalidation_0-rmse:0.340535\tvalidation_1-rmse:0.379918\n",
            "[720]\tvalidation_0-rmse:0.340487\tvalidation_1-rmse:0.379885\n",
            "[721]\tvalidation_0-rmse:0.340431\tvalidation_1-rmse:0.379885\n",
            "[722]\tvalidation_0-rmse:0.340354\tvalidation_1-rmse:0.379872\n",
            "[723]\tvalidation_0-rmse:0.340224\tvalidation_1-rmse:0.379831\n",
            "[724]\tvalidation_0-rmse:0.34017\tvalidation_1-rmse:0.379794\n",
            "[725]\tvalidation_0-rmse:0.340116\tvalidation_1-rmse:0.379815\n",
            "[726]\tvalidation_0-rmse:0.340069\tvalidation_1-rmse:0.379802\n",
            "[727]\tvalidation_0-rmse:0.340022\tvalidation_1-rmse:0.379844\n",
            "[728]\tvalidation_0-rmse:0.339936\tvalidation_1-rmse:0.379834\n",
            "[729]\tvalidation_0-rmse:0.339874\tvalidation_1-rmse:0.379903\n",
            "[730]\tvalidation_0-rmse:0.339804\tvalidation_1-rmse:0.379915\n",
            "[731]\tvalidation_0-rmse:0.339728\tvalidation_1-rmse:0.379977\n",
            "[732]\tvalidation_0-rmse:0.339659\tvalidation_1-rmse:0.379965\n",
            "[733]\tvalidation_0-rmse:0.339604\tvalidation_1-rmse:0.379972\n",
            "[734]\tvalidation_0-rmse:0.339556\tvalidation_1-rmse:0.379952\n",
            "Stopping. Best iteration:\n",
            "[724]\tvalidation_0-rmse:0.34017\tvalidation_1-rmse:0.379794\n",
            "\n"
          ],
          "name": "stdout"
        },
        {
          "output_type": "execute_result",
          "data": {
            "text/plain": [
              "XGBClassifier(base_score=0.5, booster='gbtree', colsample_bylevel=1,\n",
              "              colsample_bynode=1, colsample_bytree=1, gamma=0,\n",
              "              learning_rate=0.1, max_delta_step=0, max_depth=3,\n",
              "              min_child_weight=1, missing=None, n_estimators=1000, n_jobs=1,\n",
              "              nthread=None, objective='binary:logistic', random_state=0,\n",
              "              reg_alpha=0, reg_lambda=1, scale_pos_weight=1, seed=None,\n",
              "              silent=None, subsample=1, verbosity=1)"
            ]
          },
          "metadata": {
            "tags": []
          },
          "execution_count": 33
        }
      ]
    },
    {
      "cell_type": "code",
      "metadata": {
        "id": "yi53Sb9MUHh6",
        "colab_type": "code",
        "colab": {}
      },
      "source": [
        "pred_probs=my_model.predict(test_vectors)"
      ],
      "execution_count": 35,
      "outputs": []
    },
    {
      "cell_type": "code",
      "metadata": {
        "id": "RU96Gsg4URs6",
        "colab_type": "code",
        "colab": {
          "base_uri": "https://localhost:8080/",
          "height": 35
        },
        "outputId": "a15407ce-43d2-4ba4-896e-c2281eb366a5"
      },
      "source": [
        "pred_probs"
      ],
      "execution_count": 36,
      "outputs": [
        {
          "output_type": "execute_result",
          "data": {
            "text/plain": [
              "array([0, 1, 1, ..., 1, 1, 0])"
            ]
          },
          "metadata": {
            "tags": []
          },
          "execution_count": 36
        }
      ]
    },
    {
      "cell_type": "markdown",
      "metadata": {
        "id": "GbAGFYzJ7xG2",
        "colab_type": "text"
      },
      "source": [
        "submit file "
      ]
    },
    {
      "cell_type": "code",
      "metadata": {
        "id": "ie-Y5btqexYN",
        "colab_type": "code",
        "colab": {}
      },
      "source": [
        "# submission shape\n",
        "sample_submission = pd.read_csv(\"sample_submission.csv\")"
      ],
      "execution_count": 28,
      "outputs": []
    },
    {
      "cell_type": "code",
      "metadata": {
        "id": "KAUfknWjWD9w",
        "colab_type": "code",
        "colab": {
          "base_uri": "https://localhost:8080/",
          "height": 35
        },
        "outputId": "937ebdf2-321e-432a-d5ca-e4dd22c1b9a8"
      },
      "source": [
        "clf.predict(test_vectors)"
      ],
      "execution_count": 34,
      "outputs": [
        {
          "output_type": "execute_result",
          "data": {
            "text/plain": [
              "array([0, 1, 1, ..., 1, 1, 0])"
            ]
          },
          "metadata": {
            "tags": []
          },
          "execution_count": 34
        }
      ]
    },
    {
      "cell_type": "code",
      "metadata": {
        "id": "qf6cgFfMe4JU",
        "colab_type": "code",
        "colab": {}
      },
      "source": [
        "sample_submission[\"target\"] = clf.predict(test_vectors)"
      ],
      "execution_count": 15,
      "outputs": []
    },
    {
      "cell_type": "code",
      "metadata": {
        "id": "VRE1CXKxUKsn",
        "colab_type": "code",
        "colab": {}
      },
      "source": [
        "sample_submission[\"target\"] = my_model.predict(test_vectors)"
      ],
      "execution_count": 37,
      "outputs": []
    },
    {
      "cell_type": "code",
      "metadata": {
        "id": "QdVhbc58e8lt",
        "colab_type": "code",
        "colab": {
          "base_uri": "https://localhost:8080/",
          "height": 200
        },
        "outputId": "b0b19c92-ee76-4c0b-d97d-c8751445fdad"
      },
      "source": [
        "sample_submission.head()"
      ],
      "execution_count": 38,
      "outputs": [
        {
          "output_type": "execute_result",
          "data": {
            "text/html": [
              "<div>\n",
              "<style scoped>\n",
              "    .dataframe tbody tr th:only-of-type {\n",
              "        vertical-align: middle;\n",
              "    }\n",
              "\n",
              "    .dataframe tbody tr th {\n",
              "        vertical-align: top;\n",
              "    }\n",
              "\n",
              "    .dataframe thead th {\n",
              "        text-align: right;\n",
              "    }\n",
              "</style>\n",
              "<table border=\"1\" class=\"dataframe\">\n",
              "  <thead>\n",
              "    <tr style=\"text-align: right;\">\n",
              "      <th></th>\n",
              "      <th>id</th>\n",
              "      <th>target</th>\n",
              "    </tr>\n",
              "  </thead>\n",
              "  <tbody>\n",
              "    <tr>\n",
              "      <th>0</th>\n",
              "      <td>0</td>\n",
              "      <td>0</td>\n",
              "    </tr>\n",
              "    <tr>\n",
              "      <th>1</th>\n",
              "      <td>2</td>\n",
              "      <td>1</td>\n",
              "    </tr>\n",
              "    <tr>\n",
              "      <th>2</th>\n",
              "      <td>3</td>\n",
              "      <td>1</td>\n",
              "    </tr>\n",
              "    <tr>\n",
              "      <th>3</th>\n",
              "      <td>9</td>\n",
              "      <td>0</td>\n",
              "    </tr>\n",
              "    <tr>\n",
              "      <th>4</th>\n",
              "      <td>11</td>\n",
              "      <td>1</td>\n",
              "    </tr>\n",
              "  </tbody>\n",
              "</table>\n",
              "</div>"
            ],
            "text/plain": [
              "   id  target\n",
              "0   0       0\n",
              "1   2       1\n",
              "2   3       1\n",
              "3   9       0\n",
              "4  11       1"
            ]
          },
          "metadata": {
            "tags": []
          },
          "execution_count": 38
        }
      ]
    },
    {
      "cell_type": "code",
      "metadata": {
        "id": "H4v_GZWjfAeX",
        "colab_type": "code",
        "colab": {}
      },
      "source": [
        "# ssave file\n",
        "sample_submission.to_csv(\"test2.csv\", index=False)"
      ],
      "execution_count": 39,
      "outputs": []
    },
    {
      "cell_type": "code",
      "metadata": {
        "id": "TuZsQs2YfHTU",
        "colab_type": "code",
        "colab": {}
      },
      "source": [
        ""
      ],
      "execution_count": null,
      "outputs": []
    }
  ]
}